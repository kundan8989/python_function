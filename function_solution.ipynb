{
 "cells": [
  {
   "cell_type": "markdown",
   "id": "1115686b-f884-47a8-a5c9-52ab50410302",
   "metadata": {},
   "source": [
    "# Theory Questions"
   ]
  },
  {
   "cell_type": "markdown",
   "id": "99c1227c-95e0-43da-ad6e-a0b17cecb81d",
   "metadata": {},
   "source": [
    "### Q 1. What is the difference between a function and a method in Python?\n",
    "#### Function\n",
    "##### In Python, a function is an independent block of reusable code that performs a specific task and can be called on its own. It is defined using the def keyword and does not require an associated object. For example, a function like def add(a, b): return a + b can be called as add(2, 3), working independently of any class or object.\n",
    "\n",
    "#### Method \n",
    "###### On the other hand, a method is a function that is associated with an object and is defined within a class. It operates on the data contained in the object and is invoked using dot notation (e.g., object.method()). Methods take self as their first parameter, which refers to the instance of the class. For example, in a class Person with a method greet(self), calling p.greet() will access the name attribute of the specific instance p\n"
   ]
  },
  {
   "cell_type": "markdown",
   "id": "11e0aedd-ebfb-44bc-b506-0e5dbc3e126a",
   "metadata": {},
   "source": [
    "### Q.2 . Explain the concept of function arguments and parameters in Python.\n",
    "\n",
    "###### Parameters are variables listed inside the parentheses in a function definition. They act as placeholders for values that will be passed when calling the function.\n",
    "###### Arguments are actual values passed to a function when it is called. These values replace the parameters and are used within the function.\n",
    "\n",
    "#### example:- \n",
    "def greet(name):  # 'name' is a parameter\n",
    " #####   print(f\"Hello, {name}!\")\n",
    "\n",
    "greet(\"Alice\")  # \"Alice\" is an argument"
   ]
  },
  {
   "cell_type": "markdown",
   "id": "395ca611-b399-4eca-8f57-8d5a8d8fc4ae",
   "metadata": {},
   "source": [
    "### Q.3  What are the different ways to define and call a function in Python?\n",
    "##### In Python, functions can be defined and called in multiple ways, depending on the requirements. Below are the different methods:\n",
    "\n",
    "###### 1. Normal Function Definition & Calling\n",
    "A function is defined using the def keyword and is called using its name followed by parentheses.\n",
    "\n",
    "###### 2.  Function with Default Arguments\n",
    "Default arguments allow a function to be called without passing all parameters.\n",
    "\n",
    "###### 3. Function with Keyword Arguments\n",
    "You can call a function by explicitly specifying parameter names.\n",
    "\n",
    "###### 4. Function with Arbitrary Arguments (*args)\n",
    "When the number of arguments is unknown, use *args to accept multiple positional arguments.\n",
    "\n",
    "example for each are given below:-\n"
   ]
  },
  {
   "cell_type": "code",
   "execution_count": 37,
   "id": "fec21589-8a8a-4e39-8136-0dc11637e92a",
   "metadata": {},
   "outputs": [
    {
     "name": "stdout",
     "output_type": "stream",
     "text": [
      "Hello, Alice!\n"
     ]
    }
   ],
   "source": [
    "# 1. Normal Function Definition & Calling\n",
    "def greet(name):\n",
    "    return f\"Hello, {name}!\"\n",
    "\n",
    "# Function Call\n",
    "print(greet(\"Alice\"))"
   ]
  },
  {
   "cell_type": "code",
   "execution_count": 38,
   "id": "f151918e-e465-4f97-870f-6322846bb7b6",
   "metadata": {},
   "outputs": [
    {
     "name": "stdout",
     "output_type": "stream",
     "text": [
      "Hello, Guest!\n",
      "Hello, Bob!\n"
     ]
    }
   ],
   "source": [
    "# 2 Function with Default Arguments\n",
    "def greet(name=\"Guest\"):\n",
    "    return f\"Hello, {name}!\"\n",
    "\n",
    "print(greet())         \n",
    "print(greet(\"Bob\"))  "
   ]
  },
  {
   "cell_type": "code",
   "execution_count": 39,
   "id": "a197e1e9-cd88-48da-9adf-975a400c2018",
   "metadata": {},
   "outputs": [
    {
     "name": "stdout",
     "output_type": "stream",
     "text": [
      "My name is John and I am 25 years old.\n"
     ]
    }
   ],
   "source": [
    "# 3. Function with Keyword Arguments\n",
    "def introduce(name, age):\n",
    "    return f\"My name is {name} and I am {age} years old.\"\n",
    "\n",
    "print(introduce(age=25, name=\"John\"))"
   ]
  },
  {
   "cell_type": "markdown",
   "id": "5255c667-f7eb-4cf5-bb28-00b4293eb4b8",
   "metadata": {},
   "source": [
    "### Q.4. What is the purpose of the `return` statement in a Python function?\n",
    "###### The return statement in Python is used to send back a value from a function to the caller. It marks the end of the function execution and provides the computed result, allowing the function's output to be used elsewhere in the program.\n",
    "\n",
    "#### example :- given below\n"
   ]
  },
  {
   "cell_type": "code",
   "execution_count": 28,
   "id": "edeef2be-a0f6-4f6a-8231-af7c5c2a3d1f",
   "metadata": {},
   "outputs": [
    {
     "name": "stdout",
     "output_type": "stream",
     "text": [
      "25\n"
     ]
    }
   ],
   "source": [
    "def square(num):\n",
    "    return num * num\n",
    "\n",
    "result = square(5)\n",
    "print(result)  # Output: 25"
   ]
  },
  {
   "cell_type": "markdown",
   "id": "bd9a31b8-4315-429a-82b6-221c7ac4f287",
   "metadata": {},
   "source": [
    "### Q.5 What are iterators in Python and how do they differ from iterables?\n",
    "\n",
    "##### Iterable?\n",
    "An iterable is any object that can return an iterator (i.e., an object that can be looped over). It must implement the __iter__() method, which returns an iterator.\n",
    "\n",
    "Examples of Iterables:\n",
    "###### Lists ([1, 2, 3])\n",
    "\n",
    "\n",
    "#### Iterator?\n",
    "An iterator is an object that produces elements one at a time using the __next__() method. It remembers its state between calls and does not reset.\n",
    "\n",
    "######  example :-\n",
    "numbers = [1, 2, 3]  # List (iterable)\n",
    "###### iterator = iter(numbers)  # Convert to an iterator\n",
    "\n",
    "print(next(iterator))  # Output: 1"
   ]
  },
  {
   "cell_type": "markdown",
   "id": "597d4286-173d-4eb5-9bf2-97dcbdcac042",
   "metadata": {},
   "source": [
    "### Q.6  Explain the concept of generators in Python and how they are defined.\n",
    "##### Generators in Python are a special type of iterators that allow lazy (on-demand) generation of values using the yield keyword instead of return. They help in efficient memory usage since they do not store the entire sequence in memory but generate values one at a time when requested.\n",
    "\n",
    "###### A generator function is defined just like a normal function but uses yield instead of return.\n",
    "When the function is called, it returns a generator object without executing the function body. The function body runs only when next() is called on the generator\n",
    "\n",
    "##### example:\n",
    "###### \n",
    "\n"
   ]
  },
  {
   "cell_type": "code",
   "execution_count": 26,
   "id": "f44eabd2-21fc-49bb-87ff-f047f598cb9b",
   "metadata": {},
   "outputs": [
    {
     "name": "stdout",
     "output_type": "stream",
     "text": [
      "1\n"
     ]
    }
   ],
   "source": [
    "def count_up_to(n):\n",
    "    count = 1\n",
    "    while count <= n:\n",
    "        yield count  # Produces values one at a time\n",
    "        count += 1\n",
    "\n",
    "# Calling the generator function\n",
    "gen = count_up_to(5)\n",
    "\n",
    "print(next(gen))  # Output: 1"
   ]
  },
  {
   "cell_type": "markdown",
   "id": "91ef7c95-6b94-4c5e-9d9f-2a91842aec1c",
   "metadata": {},
   "source": [
    "### Q.7  What are the advantages of using generators over regular functions?\n",
    "##### Advantages of Using Generators Over Regular Functions\n",
    "Generators provide several benefits over regular functions, especially when dealing with large datasets, infinite sequences, or performance-critical applications. Below are the key advantages:\n",
    "\n",
    "##### 1. Memory Efficiency\n",
    "Generators produce values on demand instead of storing them all at once in memory. This is particularly useful when dealing with large datasets.\n",
    "\n",
    "example are given below:-\n"
   ]
  },
  {
   "cell_type": "code",
   "execution_count": 29,
   "id": "273fcc5b-2c37-4f3d-8650-dd3d1c0f06f6",
   "metadata": {},
   "outputs": [
    {
     "name": "stderr",
     "output_type": "stream",
     "text": [
      "IOPub data rate exceeded.\n",
      "The Jupyter server will temporarily stop sending output\n",
      "to the client in order to avoid crashing it.\n",
      "To change this limit, set the config variable\n",
      "`--ServerApp.iopub_data_rate_limit`.\n",
      "\n",
      "Current values:\n",
      "ServerApp.iopub_data_rate_limit=1000000.0 (bytes/sec)\n",
      "ServerApp.rate_limit_window=3.0 (secs)\n",
      "\n"
     ]
    }
   ],
   "source": [
    "#Example: Regular Function vs. Generator\n",
    "#Regular Function (Consumes More Memory)\n",
    "\n",
    "def generate_squares(n):\n",
    "    result = []\n",
    "    for i in range(n):\n",
    "        result.append(i * i)\n",
    "    return result\n",
    "\n",
    "print(generate_squares(1000000))  # Stores all values in memory"
   ]
  },
  {
   "cell_type": "code",
   "execution_count": 30,
   "id": "304efeac-a226-432a-b771-56db9c6513ed",
   "metadata": {},
   "outputs": [
    {
     "name": "stdout",
     "output_type": "stream",
     "text": [
      "0\n",
      "1\n"
     ]
    }
   ],
   "source": [
    "#Generator (Memory Efficient)\n",
    "def generate_squares(n):\n",
    "    for i in range(n):\n",
    "        yield i * i  # Produces values one at a time\n",
    "\n",
    "gen = generate_squares(1000000)\n",
    "print(next(gen))  # Output: 0\n",
    "print(next(gen))  # Output: 1"
   ]
  },
  {
   "cell_type": "markdown",
   "id": "4a278087-e659-40e4-9188-2dee2f001ff4",
   "metadata": {},
   "source": [
    "### Q.8 What is a lambda function in Python and when is it typically used?\n",
    "##### 1. What is a Lambda Function?\n",
    "A lambda function in Python is a small anonymous function defined using the lambda keyword. It can have any number of arguments, but only one expression.\n",
    "\n",
    "##### use case\n",
    "Lambda functions are useful when you need a small function for a short period (often used inline). Common use cases include:\n",
    "\n",
    "1. Using lambda with map() (Transforming Data)\n",
    "\n",
    "example given below :-"
   ]
  },
  {
   "cell_type": "code",
   "execution_count": 31,
   "id": "29fc1019-b43e-47f6-88ff-dcda102ef913",
   "metadata": {},
   "outputs": [
    {
     "name": "stdout",
     "output_type": "stream",
     "text": [
      "[1, 4, 9, 16]\n"
     ]
    }
   ],
   "source": [
    "numbers = [1, 2, 3, 4]\n",
    "squared = list(map(lambda x: x**2, numbers))\n",
    "print(squared)  "
   ]
  },
  {
   "cell_type": "markdown",
   "id": "79ac076b-9d25-4c83-99ed-e44bade8ede7",
   "metadata": {},
   "source": [
    "### Q.9 . Explain the purpose and usage of the `map()` function in Python.\n",
    "##### The map() function in Python is used to apply a given function to all items in an iterable (e.g., list, tuple) and return a map object (an iterator) with the transformed results.\n",
    "\n",
    "#### 1. Purpose of map()\n",
    "#### 2. Efficiently applies a function to each item in an iterable.\n",
    "#### 3. Eliminates the need for explicit loops, making code more concise.\n",
    "#### 4. Returns an iterator instead of a full list, saving memory.\n",
    "\n",
    "example given below:-"
   ]
  },
  {
   "cell_type": "code",
   "execution_count": 32,
   "id": "6efdbf89-3c3e-4c59-b0d2-04b6d05ceff1",
   "metadata": {},
   "outputs": [
    {
     "name": "stdout",
     "output_type": "stream",
     "text": [
      "[1, 4, 9, 16, 25]\n"
     ]
    }
   ],
   "source": [
    "numbers = [1, 2, 3, 4, 5]\n",
    "squared = list(map(lambda x: x ** 2, numbers))\n",
    "print(squared)  # Output: [1, 4, 9, 16, 25]"
   ]
  },
  {
   "cell_type": "markdown",
   "id": "1132027d-80a6-429f-a295-9237e490a180",
   "metadata": {},
   "source": [
    "### Q.10. What is the difference between `map()`, `reduce()`, and `filter()` functions in Python?\n",
    "###### 1. map() Function\n",
    "The map() function is used to apply a given function to every element in an iterable and return a new iterator with the transformed values. It is useful when you need to modify or process all elements in a collection without using explicit loops. For example, if you have a list of numbers and want to square each number, map() allows you to apply the squaring operation to all elements efficiently. The function passed to map() must take a single argument (or multiple if using multiple iterables). Since map() returns an iterator, it is often converted into a list or tuple for readability.\n",
    "\n",
    "###### 2. filter() Function\n",
    "The filter() function is used to select elements from an iterable that satisfy a certain condition. It applies a function that returns True or False to each element and only keeps those elements where the function returns True. This function is useful for tasks like extracting even numbers from a list, removing empty strings, or filtering out negative values. Unlike map(), which applies a transformation to all elements, filter() only keeps specific elements that meet the criteria. The output is an iterator, which can be converted into a list or tuple if needed.\n",
    "\n",
    "###### 3. reduce() Function\n",
    "The reduce() function, found in the functools module, is used to perform cumulative operations on an iterable and reduce it to a single value. It applies a binary function (a function that takes two arguments) cumulatively to the elements, meaning it takes the first two elements, applies the function, then takes the result and the next element, and so on, until only one value remains. reduce() is commonly used for operations like summing all elements in a list, calculating the product of a series of numbers, or finding the maximum value. Unlike map() and filter(), which return iterators containing multiple elements, reduce() always returns a single aggregated result."
   ]
  },
  {
   "cell_type": "markdown",
   "id": "548bdaa7-5e52-4afc-81a0-42401e861fb1",
   "metadata": {},
   "source": [
    "# Practical Questions:"
   ]
  },
  {
   "cell_type": "code",
   "execution_count": 2,
   "id": "b191fcab-6ef3-49c6-a74e-b04e575c5e12",
   "metadata": {},
   "outputs": [
    {
     "name": "stdout",
     "output_type": "stream",
     "text": [
      "12\n"
     ]
    }
   ],
   "source": [
    "# Q 1. Write a Python function that takes a list of numbers as input and returns the sum of all even numbers in\n",
    "#the list.\n",
    "\n",
    "def list_even_sum(my_list):\n",
    "    even_sum=0\n",
    "    for i in my_list:\n",
    "        if (i%2==0):\n",
    "            even_sum=even_sum+i\n",
    "    return even_sum\n",
    "\n",
    "my_list=[2,3,4,6,7]\n",
    "result=list_even_sum(my_list)\n",
    "print(result)\n",
    "\n"
   ]
  },
  {
   "cell_type": "code",
   "execution_count": 11,
   "id": "b9633cf4-6e22-464e-8e98-dc1b1af4e0e9",
   "metadata": {},
   "outputs": [
    {
     "name": "stdout",
     "output_type": "stream",
     "text": [
      "olleh\n"
     ]
    }
   ],
   "source": [
    "# Q.2. Create a Python function that accepts a string and returns the reverse of that string.\n",
    "def reverse_string(my_string):\n",
    "    new_str=\"\"\n",
    "    length=len(my_string)\n",
    "    for i in range (1,length+1):\n",
    "        new_str=new_str+my_string[-i]\n",
    "    return new_str\n",
    "\n",
    "res=reverse_string(\"hello\")\n",
    "print(res)\n",
    "        "
   ]
  },
  {
   "cell_type": "code",
   "execution_count": 14,
   "id": "506fd573-4a83-48da-a2a7-4606e19ed44c",
   "metadata": {},
   "outputs": [
    {
     "name": "stdout",
     "output_type": "stream",
     "text": [
      "[1, 4, 9, 16, 25]\n"
     ]
    }
   ],
   "source": [
    "# Q.3. Implement a Python function that takes a list of integers and returns a new list containing the squares of\n",
    "#each number.\n",
    "\n",
    "def int_square(my_int):\n",
    "    new_list=[]\n",
    "    for i in my_int:\n",
    "        new_list.append(i**2)\n",
    "\n",
    "    return new_list\n",
    "\n",
    "print(int_square([1,2,3,4,5]))\n"
   ]
  },
  {
   "cell_type": "code",
   "execution_count": 16,
   "id": "4b811148-79c1-40c7-8783-c0357aba3aa8",
   "metadata": {},
   "outputs": [
    {
     "name": "stdout",
     "output_type": "stream",
     "text": [
      "Prime numbers from 1 to 200: [2, 3, 5, 7, 11, 13, 17, 19, 23, 29, 31, 37, 41, 43, 47, 53, 59, 61, 67, 71, 73, 79, 83, 89, 97, 101, 103, 107, 109, 113, 127, 131, 137, 139, 149, 151, 157, 163, 167, 173, 179, 181, 191, 193, 197, 199]\n"
     ]
    }
   ],
   "source": [
    "# Q.4. Write a Python function that checks if a given number is prime or not from 1 to 200.\n",
    "def is_prime(n):\n",
    "    if n < 2:\n",
    "        return False\n",
    "    for i in range(2, int(n ** 0.5) + 1):\n",
    "        if n % i == 0:\n",
    "            return False\n",
    "    return True\n",
    "\n",
    "\n",
    "prime_numbers = [n for n in range(1, 201) if is_prime(n)]\n",
    "print(\"Prime numbers from 1 to 200:\", prime_numbers)\n"
   ]
  },
  {
   "cell_type": "code",
   "execution_count": 18,
   "id": "c1f279cb-6444-4322-b089-792fffd50a5a",
   "metadata": {},
   "outputs": [
    {
     "name": "stdout",
     "output_type": "stream",
     "text": [
      "Fibonacci Sequence:\n",
      "0 1 1 2 3 5 8 13 21 34 "
     ]
    }
   ],
   "source": [
    "# Q.5. Create an iterator class in Python that generates the Fibonacci sequence up to a specified number ofm terms.\n",
    "class FibonacciIterator:\n",
    "    def __init__(self, n_terms):\n",
    "        self.n_terms = n_terms\n",
    "        self.a, self.b = 0, 1\n",
    "        self.count = 0\n",
    "\n",
    "    def __iter__(self):\n",
    "        return self\n",
    "\n",
    "    def __next__(self):\n",
    "        if self.count >= self.n_terms:\n",
    "            raise StopIteration\n",
    "        fib_number = self.a\n",
    "        self.a, self.b = self.b, self.a + self.b\n",
    "        self.count += 1\n",
    "        return fib_number\n",
    "\n",
    "# Example usage\n",
    "n = 10 \n",
    "fib_iterator = FibonacciIterator(n)\n",
    "print(\"Fibonacci Sequence:\")\n",
    "for num in fib_iterator:\n",
    "    print(num, end=\" \")\n"
   ]
  },
  {
   "cell_type": "code",
   "execution_count": 19,
   "id": "32bf576f-e214-49a0-9860-106eea3b7c03",
   "metadata": {},
   "outputs": [
    {
     "name": "stdout",
     "output_type": "stream",
     "text": [
      "Powers of 2:\n",
      "1 2 4 8 16 32 "
     ]
    }
   ],
   "source": [
    "# Q.6 . Write a generator function in Python that yields the powers of 2 up to a given exponent.\n",
    "def powers_of_two(exponent):\n",
    "    for i in range(exponent + 1):\n",
    "        yield 2 ** i\n",
    "\n",
    "# Example usage\n",
    "exp = 5  \n",
    "print(\"Powers of 2:\")\n",
    "for num in powers_of_two(exp):\n",
    "    print(num, end=\" \")\n",
    "\n"
   ]
  },
  {
   "cell_type": "code",
   "execution_count": 21,
   "id": "a4668365-d607-4a5f-865b-5ab176baeffd",
   "metadata": {},
   "outputs": [
    {
     "name": "stdout",
     "output_type": "stream",
     "text": [
      "hii my name is kundan kumar\n"
     ]
    }
   ],
   "source": [
    "# Q .7. Implement a generator function that reads a file line by line and yields each line as a string.\n",
    "def read_file_line_by_line(file_path):\n",
    "    \"\"\"Generator function that reads a file line by line.\"\"\"\n",
    "    with open(file_path, \"r\", encoding=\"utf-8\") as file:\n",
    "        for line in file:\n",
    "            yield line.strip()  \n",
    "\n",
    "\n",
    "file_path = \"text.txt\"  \n",
    "for line in read_file_line_by_line(file_path):\n",
    "    print(line)\n"
   ]
  },
  {
   "cell_type": "code",
   "execution_count": 22,
   "id": "9bf920d1-4212-49fa-838e-c145d4ecb2ef",
   "metadata": {},
   "outputs": [
    {
     "name": "stdout",
     "output_type": "stream",
     "text": [
      "Sorted list: [(2, 1), (3, 2), (5, 3), (1, 5), (4, 8)]\n"
     ]
    }
   ],
   "source": [
    "# Q 8. Use a lambda function in Python to sort a list of tuples based on the second element of each tuple.\n",
    "\n",
    "tuples_list = [(1, 5), (3, 2), (4, 8), (2, 1), (5, 3)]\n",
    "\n",
    "sorted_list = sorted(tuples_list, key=lambda x: x[1])\n",
    "print(\"Sorted list:\", sorted_list)\n"
   ]
  },
  {
   "cell_type": "code",
   "execution_count": 23,
   "id": "2f9194be-320b-4420-9bd8-b8458902a92f",
   "metadata": {},
   "outputs": [
    {
     "name": "stdout",
     "output_type": "stream",
     "text": [
      "Temperatures in Fahrenheit: [32.0, 68.0, 86.0, 98.6, 212.0]\n"
     ]
    }
   ],
   "source": [
    "# Q.9. Write a Python program that uses `map()` to convert a list of temperatures from Celsius to Fahrenheit.\n",
    "# Function to convert Celsius to Fahrenheit\n",
    "celsius_to_fahrenheit = lambda c: (c * 9/5) + 32\n",
    "celsius_temps = [0, 20, 30, 37, 100]\n",
    "fahrenheit_temps = list(map(celsius_to_fahrenheit, celsius_temps))\n",
    "print(\"Temperatures in Fahrenheit:\", fahrenheit_temps)\n"
   ]
  },
  {
   "cell_type": "code",
   "execution_count": 25,
   "id": "26b3968f-bf83-48f7-9322-b182602573ca",
   "metadata": {},
   "outputs": [
    {
     "name": "stdout",
     "output_type": "stream",
     "text": [
      "String without vowels: Hll, hw r y?\n"
     ]
    }
   ],
   "source": [
    "# 10. Create a Python program that uses `filter()` to remove all the vowels from a given string.\n",
    "# Function to check if a character is not a vowel\n",
    "is_not_vowel = lambda char: char.lower() not in \"aeiou\"\n",
    "\n",
    "input_string = \"Hello, how are you?\"\n",
    "filtered_string = \"\".join(filter(is_not_vowel, input_string))\n",
    "\n",
    "print(\"String without vowels:\", filtered_string)\n"
   ]
  },
  {
   "cell_type": "markdown",
   "id": "1df9824c-d851-49fa-b3d7-5c96d631d9c6",
   "metadata": {},
   "source": [
    "### Q.) Imagine an accounting routine used in a book shop. It works on a list with sublists, which look like this:\n",
    "\n",
    "\n",
    "#### order Number    | book title and author| Quantity | price per items\n",
    "\n",
    "Write a Python program, which returns a list with 2-tuples. Each tuple consists of the order number and the\n",
    "product of the price per item and the quantity. The product should be increased by 10,- € if the value of the\n",
    "order is smaller than 100,00 €.\n",
    "\n"
   ]
  },
  {
   "cell_type": "code",
   "execution_count": 35,
   "id": "f5efdd1d-9f6b-4155-915b-827b724e1ea2",
   "metadata": {},
   "outputs": [
    {
     "name": "stdout",
     "output_type": "stream",
     "text": [
      "[(34587, 163.8), (98762, 284.0), (77226, 108.85000000000001), (88112, 84.97)]\n"
     ]
    }
   ],
   "source": [
    "\n",
    "orders = [\n",
    "    [34587, \"Learning Python\", 4, 40.95],\n",
    "    [98762, \"Programming Python\", 5, 56.80],\n",
    "    [77226, \"Head First Python\", 3, 32.95],\n",
    "    [88112, \"Einführung in Python\", 3, 24.99]\n",
    "]\n",
    "\n",
    "# Using lambda and map to calculate total order cost\n",
    "result = list(map(lambda x: (x[0], x[2] * x[3] if x[2] * x[3] >= 100 else x[2] * x[3] + 10), orders))\n",
    "\n",
    "print(result)\n"
   ]
  }
 ],
 "metadata": {
  "kernelspec": {
   "display_name": "Python 3 (ipykernel)",
   "language": "python",
   "name": "python3"
  },
  "language_info": {
   "codemirror_mode": {
    "name": "ipython",
    "version": 3
   },
   "file_extension": ".py",
   "mimetype": "text/x-python",
   "name": "python",
   "nbconvert_exporter": "python",
   "pygments_lexer": "ipython3",
   "version": "3.12.6"
  }
 },
 "nbformat": 4,
 "nbformat_minor": 5
}
